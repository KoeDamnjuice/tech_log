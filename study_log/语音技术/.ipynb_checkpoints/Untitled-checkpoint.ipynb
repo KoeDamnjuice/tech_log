{
 "cells": [
  {
   "cell_type": "markdown",
   "id": "80baa909-c515-4692-8a31-46afc38e8d67",
   "metadata": {},
   "source": [
    "# 电脑音频的来源\n",
    "首先通过声卡对模拟音频电信号进行采样、量化。一般的采样率有8khz、16khz（深度学习常用）、44.1khz（高水平）、48khz、96khz。  \n",
    "采样位深是记录一个采样点所使用的bit数，一般的位深包括16bits、24bits等等，位深越高，音质越好，量化噪声越低，波形越接近模拟信号。  \n",
    "\n",
    "# 对声音的描述\n",
    "## 频率\n",
    "频率指的是某个周期性型号的周期的倒数，单位常常为HZ，频率越高的声音越尖锐。\n",
    "## 振幅\n",
    "振幅表示了波形的强度，音频中使用的单位一般为分贝dB，其计算公式为:  \n",
    "$$L_p = 20log_{10}(\\frac{P_{rms}}{P_{ref}})$$\n",
    "其中$P_{rms}$是实际声音的声压水平，$P_{ref}$是参考信号的声压水平，单位一般为帕斯卡，对于人类，这个参考值为20微帕斯卡。\n",
    "\n",
    "\n",
    "# 为何对声音进行编码？\n",
    "如果我们直接对ADC的数据流进行存储，需要的容量将会非常巨大。一个44.1khz，16bits位深的双声道音频信号的带宽可以达到1.34583 Mibit/s。  \n",
    "因此需要对信号进行压缩编码，压缩编码技术一般分为：  \n",
    "+ 不可逆的有损编码：MP3, AAC。有损编码通过声学掩蔽效应，剔除音频中难以被人耳感知的冗余部分，一般压缩率可以达到1/10。\n",
    "+ 可逆的无损编码：WAV，FLAC。这是深度学习技术中常用的音频编码，WAV编码完整呈现了音频的波形，被各自声学算法广泛使用。"
   ]
  }
 ],
 "metadata": {
  "kernelspec": {
   "display_name": "Python 3 (ipykernel)",
   "language": "python",
   "name": "python3"
  },
  "language_info": {
   "codemirror_mode": {
    "name": "ipython",
    "version": 3
   },
   "file_extension": ".py",
   "mimetype": "text/x-python",
   "name": "python",
   "nbconvert_exporter": "python",
   "pygments_lexer": "ipython3",
   "version": "3.8.18"
  }
 },
 "nbformat": 4,
 "nbformat_minor": 5
}
