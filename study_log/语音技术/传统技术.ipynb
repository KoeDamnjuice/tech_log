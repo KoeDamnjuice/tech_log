{
 "cells": [
  {
   "cell_type": "markdown",
   "id": "6e86c17a",
   "metadata": {},
   "source": [
    "# 面经总结\n",
    "https://blog.csdn.net/ID_AF12/article/details/130184016\n",
    "\n",
    "___"
   ]
  },
  {
   "cell_type": "markdown",
   "id": "f0a0b50a-d343-49f7-b3c3-875e7d83fe7e",
   "metadata": {},
   "source": [
    "# 传统的语音增强技术"
   ]
  },
  {
   "cell_type": "markdown",
   "id": "9dd89c7c",
   "metadata": {},
   "source": [
    "## 谱减法\n",
    "谱减法是语音增强最简单的方式：  \n",
    "+ 使用VAD技术检测语音段与非语音段\n",
    "+ 在非语音段更新噪声模型的统计特性\n",
    "+ 对整个频谱减去噪声模型估计的噪声  \n",
    "优点：\n",
    "+ 简单容易实现\n",
    "缺点：\n",
    "+ 对非平稳噪声无解\n",
    "+ 如果噪声估计不精确，会导致频谱不连续，产生伪影（音乐噪声）\n",
    "\n",
    "## 维纳滤波方法\n",
    "维纳滤波使用自适应滤波器来增强音频，原理是使用最小均方误差来估计自适应滤波器参数。由残差信号与“原材料”观测信号\n",
    "之间的正交性，可以得到自适应滤波器的计算公式为：\n",
    "$$H = R_{xx}^{-1}R_{xy}$$\n",
    "其中$R_{xx}$是观测信号的自相关，而&R_{xy}&是官测信号与目标信号之间的互相关函数。即，自适应滤波器的参数等于自相关矩阵的逆乘以观测信号与噪声之间的互相关函数。\n",
    "假设语音信号与噪声统计独立:\n",
    "$$R_{xx} = R_{vv} + R_{yy}$$\n",
    "$$R_{xy} = R_{yy}$$\n",
    "维纳滤波的性能依赖于对语音和噪声统计特性的精确估计。即非常依赖先验知识。  \n",
    "由于逆矩阵计算量非常不好计算，一般使用鲁温森-杜宾算法对其迭代求解。"
   ]
  },
  {
   "cell_type": "markdown",
   "id": "cdb5d3b6",
   "metadata": {},
   "source": [
    "# DSP基础\n",
    "https://github.com/charlesliucn/summer-review/blob/master/10-%E6%95%B0%E5%AD%97%E4%BF%A1%E5%8F%B7%E5%A4%84%E7%90%86/%E7%9F%A5%E8%AF%86%E6%A2%B3%E7%90%86.md"
   ]
  }
 ],
 "metadata": {
  "kernelspec": {
   "display_name": "Python 3 (ipykernel)",
   "language": "python",
   "name": "python3"
  },
  "language_info": {
   "codemirror_mode": {
    "name": "ipython",
    "version": 3
   },
   "file_extension": ".py",
   "mimetype": "text/x-python",
   "name": "python",
   "nbconvert_exporter": "python",
   "pygments_lexer": "ipython3",
   "version": "3.8.18"
  }
 },
 "nbformat": 4,
 "nbformat_minor": 5
}
