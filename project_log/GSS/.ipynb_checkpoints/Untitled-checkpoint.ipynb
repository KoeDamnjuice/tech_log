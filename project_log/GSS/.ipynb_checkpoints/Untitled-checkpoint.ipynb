{
 "cells": [
  {
   "cell_type": "markdown",
   "id": "e8e4ee51-985f-4dca-a91c-51bfcb6442e2",
   "metadata": {},
   "source": [
    "# GSS"
   ]
  },
  {
   "cell_type": "markdown",
   "id": "775fff0e-0d73-4e60-b3c4-d7acfe7343ff",
   "metadata": {},
   "source": [
    "## 2024-07-12\n",
    "### ideas:\n",
    "使用小模型进行粗略音区分离，根据分离结果构建rttm，然后进行GSS\n",
    "### plans:\n",
    "下周对语音文件进行手动标注，测试gss的最佳性能。\n",
    "\n",
    "___\n"
   ]
  },
  {
   "cell_type": "markdown",
   "id": "2f48c38d-1d1d-4c07-a664-f28e461e3241",
   "metadata": {},
   "source": [
    "## 本周代码, 根据输出的segment还原出整段音频"
   ]
  },
  {
   "cell_type": "code",
   "execution_count": null,
   "id": "9f77e335-bf88-4e76-866d-75db8aa2380b",
   "metadata": {},
   "outputs": [],
   "source": []
  }
 ],
 "metadata": {
  "kernelspec": {
   "display_name": "Python 3 (ipykernel)",
   "language": "python",
   "name": "python3"
  },
  "language_info": {
   "codemirror_mode": {
    "name": "ipython",
    "version": 3
   },
   "file_extension": ".py",
   "mimetype": "text/x-python",
   "name": "python",
   "nbconvert_exporter": "python",
   "pygments_lexer": "ipython3",
   "version": "3.8.19"
  }
 },
 "nbformat": 4,
 "nbformat_minor": 5
}
